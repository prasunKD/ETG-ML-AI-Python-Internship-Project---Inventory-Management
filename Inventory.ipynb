{
  "nbformat": 4,
  "nbformat_minor": 0,
  "metadata": {
    "colab": {
      "name": "Inventory.ipynb",
      "provenance": []
    },
    "kernelspec": {
      "name": "python3",
      "display_name": "Python 3"
    },
    "language_info": {
      "name": "python"
    }
  },
  "cells": [
    {
      "cell_type": "code",
      "metadata": {
        "id": "aClYenCMKaOs"
      },
      "source": [
        "import json\n",
        "\n",
        "record= { 'C001': {'name': 'Chocolate Cake', 'pr': 80, 'qn': 50, 'type': 'consumables', 'wa': 'NA'},\n",
        "        'C002': {'name': 'Vanilla Ice-cream', 'pr': 100, 'qn': 100, 'type': 'consumables', 'wa': 'NA'},\n",
        "        'C003': {'name': 'Coca-cola', 'pr': 95, 'qn': 100, 'type': 'consumables', 'wa': 'NA'},\n",
        "        'C004': {'name': 'Jolly Rancher', 'pr': 10, 'qn': 1000, 'type': 'consumables', 'wa': 'NA'},\n",
        "        'C005': {'name': 'Pasta', 'pr': 60, 'qn': 100, 'type': 'consumables', 'wa': 'NA'},\n",
        "        'C006': {'name': 'Chewing Gum', 'pr': 5, 'qn': 900, 'type': 'consumables', 'wa': 'NA'},\n",
        "        'C007': {'name': 'Cotton Candy', 'pr': 50, 'qn': 60, 'type': 'consumables', 'wa': 'NA'},\n",
        "        'C008': {'name': 'Oreo', 'pr': 90, 'qn': 200, 'type': 'consumables', 'wa': 'NA'},\n",
        "        'C009': {'name': 'Cookies', 'pr': 50, 'qn': 150, 'type': 'consumables', 'wa': 'NA'},\n",
        "        'C010': {'name': 'Cheetos', 'pr': 30, 'qn': 300, 'type': 'consumables', 'wa': 'NA'},\n",
        "        \n",
        "        'A001': {'name': 'Washing Machine', 'type' : 'Appliance', 'pr': 15000, 'qn': 30, 'wa': 'Yes' },\n",
        "        'A002': {'name': 'Microwave Oven', 'type' : 'Appliance', 'pr': 5500, 'qn': 100, 'wa': 'Yes'},\n",
        "        'A003': {'name': 'Mixer Grinder', 'type' : 'Appliance', 'pr': 1500, 'qn': 100, 'wa': 'Yes'},\n",
        "        'A004': {'name': 'Induction Oven', 'type' : 'Appliance','pr': 3500, 'qn': 100, 'wa': 'Yes'},\n",
        "        'A005': {'name': 'Air Fryer', 'type' : 'Appliance','pr': 9000, 'qn': 100, 'wa': 'Yes'},\n",
        "        'A006': {'name': 'Blender', 'type' : 'Appliance','pr': 700, 'qn': 200, 'wa': 'Yes'},\n",
        "        'A007': {'name': 'Vaccum Cleaner', 'type' : 'Appliance','pr': 8000, 'qn': 50, 'wa': 'Yes'},\n",
        "        'A008': {'name': 'Toaster', 'type' : 'Appliance','pr': 800, 'qn': 150, 'wa': 'Yes'},\n",
        "        'A009': {'name': 'Grill', 'type' : 'Appliance','pr': 500, 'qn': 120, 'wa': 'Yes'},\n",
        "        'A010': {'name': 'Sandwich Maker', 'type' : 'Appliance','pr': 750, 'qn': 80, 'wa': 'Yes'},\n",
        "        \n",
        "        'E001': {'name': 'Steam Wallet Coupon', 'pr': 400, 'qn': 500, 'type': 'entertainment', 'wa': 'NA'},\n",
        "        'E002': {'name': 'Super Mario 64', 'pr': 1600, 'qn': 200, 'type': 'entertainment', 'wa': 'yes'},\n",
        "        'E003': {'name': 'GTA V: Premium Edition', 'pr': 2000, 'qn': 1000, 'type': 'entertainment', 'wa': 'yes'},\n",
        "        'E004': {'name': 'Amazon Gift Card', 'pr': 500, 'qn': 1000, 'type': 'entertainment', 'wa': 'NA'},\n",
        "        'E005': {'name': 'Cyberpunk Digital Delux Edition', 'pr': 2400, 'qn': 100, 'type': 'entertainment', 'wa': 'yes'},\n",
        "        'E006': {'name': 'Forza Horizon 5', 'pr': 3000, 'qn': 200, 'type': 'entertainment', 'wa': 'yes'},\n",
        "        'E007': {'name': 'Watch Dogs Legion', 'pr': 2400, 'qn': 150, 'type': 'entertainment', 'wa': 'yes'},\n",
        "        'E008': {'name': 'Riot Games Coupon', 'pr': 2600, 'qn': 200, 'type': 'entertainment', 'wa': 'NA'},\n",
        "        'E009': {'name': 'Google Play Gift Card', 'pr': 800, 'qn': 800, 'type': 'entertainment', 'wa': 'NA'},\n",
        "        'E010': {'name': 'EA Access Pass', 'pr': 999, 'qn': 500, 'type': 'entertainment', 'wa': 'yes'}}\n",
        "\n",
        "\n",
        "fd = open(\"record.json\",'w')\n",
        "json.dump(record, fd)\n",
        "fd.close()\n"
      ],
      "execution_count": 2,
      "outputs": []
    }
  ]
}