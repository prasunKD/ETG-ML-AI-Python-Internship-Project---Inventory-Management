{
  "nbformat": 4,
  "nbformat_minor": 0,
  "metadata": {
    "colab": {
      "name": "Add_new_item.ipynb",
      "provenance": []
    },
    "kernelspec": {
      "name": "python3",
      "display_name": "Python 3"
    },
    "language_info": {
      "name": "python"
    }
  },
  "cells": [
    {
      "cell_type": "code",
      "metadata": {
        "colab": {
          "base_uri": "https://localhost:8080/"
        },
        "id": "jfnwOg9ILIZE",
        "outputId": "07c08a3a-e917-45a3-e9ae-9983560334a6"
      },
      "source": [
        "import json\n",
        "\n",
        "fd = open(\"record.json\")\n",
        "record= json.load(fd)\n",
        "\n",
        "fd.close()\n",
        "\n",
        "\n",
        "prod_id = str(input(\"Enter product id:\"))\n",
        "name = str(input(\"Enter name:\"))\n",
        "pr = int(input(\"Enter price:\"))\n",
        "qn = int(input(\"Enter quantity:\"))\n",
        "ptype = str(input(\"Enter product category:\"))\n",
        "wa = str(input(\"whether warranty applicable or not:\"))\n",
        "\n",
        "\n",
        "record[prod_id] = {'name': name, 'pr': pr, 'qn': qn, 'type': ptype, 'wa': wa}\n",
        "\n",
        "fd = open(\"record.json\",'w')\n",
        "json.dump(record, fd)\n",
        "\n",
        "fd.close()\n"
      ],
      "execution_count": 2,
      "outputs": [
        {
          "name": "stdout",
          "output_type": "stream",
          "text": [
            "Enter product id:C001\n",
            "Enter name:bournvita\n",
            "Enter price:120\n",
            "Enter quantity:20\n",
            "Enter product category:consumables\n",
            "whether warranty applicable or not:NA\n"
          ]
        }
      ]
    }
  ]
}